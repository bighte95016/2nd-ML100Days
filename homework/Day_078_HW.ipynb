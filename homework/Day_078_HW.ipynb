{
 "cells": [
  {
   "cell_type": "markdown",
   "metadata": {},
   "source": [
    "## Work\n",
    "1. 請嘗試將 preproc_x 替換成以每筆資料的 min/max 進行標準化至 -1 ~ 1 間，再進行訓練\n",
    "2. 請嘗試將 mlp 疊更深 (e.g 5~10 層)，進行訓練後觀察 learning curve 的走勢\n",
    "3. (optional) 請改用 GPU 進行訓練 (如果你有 GPU 的話)，比較使用 CPU 與 GPU 的訓練速度"
   ]
  },
  {
   "cell_type": "code",
   "execution_count": 35,
   "metadata": {},
   "outputs": [
    {
     "name": "stdout",
     "output_type": "stream",
     "text": [
      "/bin/sh: nvidia-smi: command not found\r\n"
     ]
    }
   ],
   "source": [
    "## \n",
    "\"\"\"\n",
    "Your code here (optional)\n",
    "確認硬體資源\n",
    "\"\"\"\n",
    "!nvidia-smi\n"
   ]
  },
  {
   "cell_type": "code",
   "execution_count": 36,
   "metadata": {},
   "outputs": [],
   "source": [
    "import os\n",
    "import keras\n",
    "\n",
    "# 請嘗試設定 GPU：os.environ\n",
    "os.environ[\"CUDA_VISIBLE_DEVICES\"] = \"\""
   ]
  },
  {
   "cell_type": "code",
   "execution_count": 37,
   "metadata": {},
   "outputs": [],
   "source": [
    "train, test = keras.datasets.cifar10.load_data()"
   ]
  },
  {
   "cell_type": "code",
   "execution_count": 38,
   "metadata": {},
   "outputs": [],
   "source": [
    "## 資料前處理\n",
    "\"\"\"\n",
    "Your code here\n",
    "\"\"\"\n",
    "from sklearn import preprocessing\n",
    "\n",
    "def preproc_x(x, flatten=True):\n",
    "    \n",
    "    if flatten:\n",
    "        x = x.reshape((len(x), -1))\n",
    "        min_max_scaler = preprocessing.MinMaxScaler()\n",
    "        x = min_max_scaler.fit_transform(x)\n",
    "    return x\n",
    "\n",
    "def preproc_y(y, num_classes=10):\n",
    "    if y.shape[-1] == 1:\n",
    "        y = keras.utils.to_categorical(y, num_classes)\n",
    "    return y\n"
   ]
  },
  {
   "cell_type": "code",
   "execution_count": 39,
   "metadata": {},
   "outputs": [
    {
     "name": "stderr",
     "output_type": "stream",
     "text": [
      "/Users/daihongming/anaconda3/lib/python3.7/site-packages/sklearn/utils/validation.py:595: DataConversionWarning: Data with input dtype uint8 was converted to float64 by MinMaxScaler.\n",
      "  warnings.warn(msg, DataConversionWarning)\n",
      "/Users/daihongming/anaconda3/lib/python3.7/site-packages/sklearn/utils/validation.py:595: DataConversionWarning: Data with input dtype uint8 was converted to float64 by MinMaxScaler.\n",
      "  warnings.warn(msg, DataConversionWarning)\n"
     ]
    }
   ],
   "source": [
    "x_train, y_train = train\n",
    "x_test, y_test = test\n",
    "\n",
    "# Preproc the inputs\n",
    "x_train = preproc_x(x_train)\n",
    "x_test = preproc_x(x_test)\n",
    "\n",
    "# Preprc the outputs\n",
    "y_train = preproc_y(y_train)\n",
    "y_test = preproc_y(y_test)"
   ]
  },
  {
   "cell_type": "code",
   "execution_count": 40,
   "metadata": {},
   "outputs": [],
   "source": [
    "\"\"\"Code Here\n",
    "建立你的神經網路\n",
    "\"\"\"\n",
    "def build_mlp(input_shape, output_units=10, num_neurons=[512, 256, 128, 64, 32]):\n",
    "    input_layer = keras.layers.Input(input_shape)\n",
    "    \n",
    "    for i, n_units in enumerate(num_neurons):\n",
    "        if i == 0:\n",
    "            x = keras.layers.Dense(units=n_units, activation=\"relu\", name=\"hidden_layer\"+str(i+1))(input_layer)\n",
    "        else:\n",
    "            x = keras.layers.Dense(units=n_units, activation=\"relu\", name=\"hidden_layer\"+str(i+1))(x)\n",
    "            \n",
    "    out = keras.layers.Dense(units=output_units, activation=\"softmax\", name=\"output\")(x)\n",
    "    \n",
    "    model = keras.models.Model(inputs=[input_layer], outputs=[out])\n",
    "    return model\n",
    "    \n",
    "model = build_mlp(input_shape=x_train.shape[1:])"
   ]
  },
  {
   "cell_type": "code",
   "execution_count": 41,
   "metadata": {},
   "outputs": [
    {
     "name": "stdout",
     "output_type": "stream",
     "text": [
      "_________________________________________________________________\n",
      "Layer (type)                 Output Shape              Param #   \n",
      "=================================================================\n",
      "input_6 (InputLayer)         (None, 3072)              0         \n",
      "_________________________________________________________________\n",
      "hidden_layer1 (Dense)        (None, 512)               1573376   \n",
      "_________________________________________________________________\n",
      "hidden_layer2 (Dense)        (None, 256)               131328    \n",
      "_________________________________________________________________\n",
      "hidden_layer3 (Dense)        (None, 128)               32896     \n",
      "_________________________________________________________________\n",
      "hidden_layer4 (Dense)        (None, 64)                8256      \n",
      "_________________________________________________________________\n",
      "hidden_layer5 (Dense)        (None, 32)                2080      \n",
      "_________________________________________________________________\n",
      "output (Dense)               (None, 10)                330       \n",
      "=================================================================\n",
      "Total params: 1,748,266\n",
      "Trainable params: 1,748,266\n",
      "Non-trainable params: 0\n",
      "_________________________________________________________________\n"
     ]
    }
   ],
   "source": [
    "model.summary()"
   ]
  },
  {
   "cell_type": "code",
   "execution_count": 42,
   "metadata": {},
   "outputs": [],
   "source": [
    "## 超參數設定\n",
    "LEARNING_RATE = 0.001\n",
    "EPOCHS = 100\n",
    "BATCH_SIZE = 256"
   ]
  },
  {
   "cell_type": "code",
   "execution_count": 43,
   "metadata": {},
   "outputs": [],
   "source": [
    "optimizer = keras.optimizers.Adam(lr=LEARNING_RATE)\n",
    "model.compile(loss=\"categorical_crossentropy\", metrics=[\"accuracy\"], optimizer=optimizer)"
   ]
  },
  {
   "cell_type": "code",
   "execution_count": 44,
   "metadata": {},
   "outputs": [
    {
     "name": "stdout",
     "output_type": "stream",
     "text": [
      "Train on 50000 samples, validate on 10000 samples\n",
      "Epoch 1/100\n",
      "50000/50000 [==============================] - 7s 146us/step - loss: 2.0032 - acc: 0.2575 - val_loss: 1.8345 - val_acc: 0.3333\n",
      "Epoch 2/100\n",
      "50000/50000 [==============================] - 6s 125us/step - loss: 1.7631 - acc: 0.3629 - val_loss: 1.7668 - val_acc: 0.3505\n",
      "Epoch 3/100\n",
      "50000/50000 [==============================] - 7s 137us/step - loss: 1.6719 - acc: 0.3960 - val_loss: 1.5983 - val_acc: 0.4189\n",
      "Epoch 4/100\n",
      "50000/50000 [==============================] - 7s 133us/step - loss: 1.5959 - acc: 0.4250 - val_loss: 1.5475 - val_acc: 0.4432\n",
      "Epoch 5/100\n",
      "50000/50000 [==============================] - 6s 129us/step - loss: 1.5434 - acc: 0.4456 - val_loss: 1.5420 - val_acc: 0.4493\n",
      "Epoch 6/100\n",
      "50000/50000 [==============================] - 6s 129us/step - loss: 1.5001 - acc: 0.4611 - val_loss: 1.4776 - val_acc: 0.4696\n",
      "Epoch 7/100\n",
      "50000/50000 [==============================] - 6s 130us/step - loss: 1.4595 - acc: 0.4746 - val_loss: 1.5128 - val_acc: 0.4546\n",
      "Epoch 8/100\n",
      "50000/50000 [==============================] - 7s 132us/step - loss: 1.4348 - acc: 0.4864 - val_loss: 1.5069 - val_acc: 0.4699\n",
      "Epoch 9/100\n",
      "50000/50000 [==============================] - 7s 132us/step - loss: 1.4096 - acc: 0.4956 - val_loss: 1.4589 - val_acc: 0.4787\n",
      "Epoch 10/100\n",
      "50000/50000 [==============================] - 7s 133us/step - loss: 1.3825 - acc: 0.5049 - val_loss: 1.5111 - val_acc: 0.4608\n",
      "Epoch 11/100\n",
      "50000/50000 [==============================] - 7s 134us/step - loss: 1.3585 - acc: 0.5131 - val_loss: 1.4054 - val_acc: 0.4955\n",
      "Epoch 12/100\n",
      "50000/50000 [==============================] - 7s 134us/step - loss: 1.3317 - acc: 0.5231 - val_loss: 1.4047 - val_acc: 0.4961\n",
      "Epoch 13/100\n",
      "50000/50000 [==============================] - 7s 136us/step - loss: 1.3091 - acc: 0.5320 - val_loss: 1.3991 - val_acc: 0.5001\n",
      "Epoch 14/100\n",
      "50000/50000 [==============================] - 7s 136us/step - loss: 1.2864 - acc: 0.5413 - val_loss: 1.4035 - val_acc: 0.5009\n",
      "Epoch 15/100\n",
      "50000/50000 [==============================] - 7s 137us/step - loss: 1.2579 - acc: 0.5493 - val_loss: 1.4033 - val_acc: 0.4988\n",
      "Epoch 16/100\n",
      "50000/50000 [==============================] - 7s 138us/step - loss: 1.2419 - acc: 0.5544 - val_loss: 1.4025 - val_acc: 0.5014\n",
      "Epoch 17/100\n",
      "50000/50000 [==============================] - 7s 139us/step - loss: 1.2199 - acc: 0.5636 - val_loss: 1.3813 - val_acc: 0.5187\n",
      "Epoch 18/100\n",
      "50000/50000 [==============================] - 7s 137us/step - loss: 1.1955 - acc: 0.5722 - val_loss: 1.4385 - val_acc: 0.4899\n",
      "Epoch 19/100\n",
      "50000/50000 [==============================] - 7s 138us/step - loss: 1.1763 - acc: 0.5763 - val_loss: 1.3681 - val_acc: 0.5178\n",
      "Epoch 20/100\n",
      "50000/50000 [==============================] - 7s 140us/step - loss: 1.1615 - acc: 0.5844 - val_loss: 1.4196 - val_acc: 0.5091\n",
      "Epoch 21/100\n",
      "50000/50000 [==============================] - 7s 140us/step - loss: 1.1379 - acc: 0.5926 - val_loss: 1.3619 - val_acc: 0.5191\n",
      "Epoch 22/100\n",
      "50000/50000 [==============================] - 7s 140us/step - loss: 1.1252 - acc: 0.5964 - val_loss: 1.3758 - val_acc: 0.5200\n",
      "Epoch 23/100\n",
      "50000/50000 [==============================] - 7s 140us/step - loss: 1.1048 - acc: 0.6044 - val_loss: 1.3831 - val_acc: 0.5182\n",
      "Epoch 24/100\n",
      "50000/50000 [==============================] - 7s 140us/step - loss: 1.0765 - acc: 0.6125 - val_loss: 1.3768 - val_acc: 0.5236\n",
      "Epoch 25/100\n",
      "50000/50000 [==============================] - 7s 140us/step - loss: 1.0665 - acc: 0.6183 - val_loss: 1.4071 - val_acc: 0.5187\n",
      "Epoch 26/100\n",
      "50000/50000 [==============================] - 7s 143us/step - loss: 1.0492 - acc: 0.6232 - val_loss: 1.3756 - val_acc: 0.5191\n",
      "Epoch 27/100\n",
      "50000/50000 [==============================] - 7s 142us/step - loss: 1.0254 - acc: 0.6294 - val_loss: 1.4166 - val_acc: 0.5180\n",
      "Epoch 28/100\n",
      "50000/50000 [==============================] - 7s 141us/step - loss: 1.0146 - acc: 0.6348 - val_loss: 1.4205 - val_acc: 0.5156\n",
      "Epoch 29/100\n",
      "50000/50000 [==============================] - 7s 142us/step - loss: 1.0017 - acc: 0.6396 - val_loss: 1.4144 - val_acc: 0.5201\n",
      "Epoch 30/100\n",
      "50000/50000 [==============================] - 7s 143us/step - loss: 0.9697 - acc: 0.6534 - val_loss: 1.4645 - val_acc: 0.5164\n",
      "Epoch 31/100\n",
      "50000/50000 [==============================] - 7s 144us/step - loss: 0.9601 - acc: 0.6539 - val_loss: 1.4276 - val_acc: 0.5276\n",
      "Epoch 32/100\n",
      "50000/50000 [==============================] - 7s 144us/step - loss: 0.9447 - acc: 0.6624 - val_loss: 1.4505 - val_acc: 0.5189\n",
      "Epoch 33/100\n",
      "50000/50000 [==============================] - 7s 145us/step - loss: 0.9290 - acc: 0.6671 - val_loss: 1.5011 - val_acc: 0.5131\n",
      "Epoch 34/100\n",
      "50000/50000 [==============================] - 7s 146us/step - loss: 0.9220 - acc: 0.6687 - val_loss: 1.4682 - val_acc: 0.5199\n",
      "Epoch 35/100\n",
      "50000/50000 [==============================] - 7s 148us/step - loss: 0.8879 - acc: 0.6815 - val_loss: 1.5714 - val_acc: 0.5045\n",
      "Epoch 36/100\n",
      "50000/50000 [==============================] - 7s 146us/step - loss: 0.8767 - acc: 0.6847 - val_loss: 1.4875 - val_acc: 0.5255\n",
      "Epoch 37/100\n",
      "50000/50000 [==============================] - 7s 148us/step - loss: 0.8541 - acc: 0.6952 - val_loss: 1.5080 - val_acc: 0.5212\n",
      "Epoch 38/100\n",
      "50000/50000 [==============================] - 7s 149us/step - loss: 0.8482 - acc: 0.6958 - val_loss: 1.5722 - val_acc: 0.5203\n",
      "Epoch 39/100\n",
      "50000/50000 [==============================] - 7s 149us/step - loss: 0.8316 - acc: 0.7017 - val_loss: 1.5681 - val_acc: 0.5146\n",
      "Epoch 40/100\n",
      "50000/50000 [==============================] - 7s 149us/step - loss: 0.8189 - acc: 0.7053 - val_loss: 1.5425 - val_acc: 0.5196\n",
      "Epoch 41/100\n",
      "50000/50000 [==============================] - 7s 148us/step - loss: 0.7988 - acc: 0.7120 - val_loss: 1.5805 - val_acc: 0.5158\n",
      "Epoch 42/100\n",
      "50000/50000 [==============================] - 8s 150us/step - loss: 0.7763 - acc: 0.7215 - val_loss: 1.6145 - val_acc: 0.5192\n",
      "Epoch 43/100\n",
      "50000/50000 [==============================] - 8s 164us/step - loss: 0.7664 - acc: 0.7253 - val_loss: 1.6318 - val_acc: 0.5191\n",
      "Epoch 44/100\n",
      "50000/50000 [==============================] - 7s 149us/step - loss: 0.7584 - acc: 0.7271 - val_loss: 1.6649 - val_acc: 0.5083\n",
      "Epoch 45/100\n",
      "50000/50000 [==============================] - 8s 155us/step - loss: 0.7384 - acc: 0.7344 - val_loss: 1.6951 - val_acc: 0.5166\n",
      "Epoch 46/100\n",
      "50000/50000 [==============================] - 8s 151us/step - loss: 0.7409 - acc: 0.7315 - val_loss: 1.6922 - val_acc: 0.5182\n",
      "Epoch 47/100\n",
      "50000/50000 [==============================] - 8s 153us/step - loss: 0.7069 - acc: 0.7463 - val_loss: 1.6929 - val_acc: 0.5177\n",
      "Epoch 48/100\n",
      "50000/50000 [==============================] - 8s 153us/step - loss: 0.7069 - acc: 0.7439 - val_loss: 1.7326 - val_acc: 0.5183\n",
      "Epoch 49/100\n",
      "50000/50000 [==============================] - 8s 153us/step - loss: 0.6855 - acc: 0.7535 - val_loss: 1.7650 - val_acc: 0.5144\n",
      "Epoch 50/100\n",
      "50000/50000 [==============================] - 8s 153us/step - loss: 0.6664 - acc: 0.7594 - val_loss: 1.7469 - val_acc: 0.5171\n",
      "Epoch 51/100\n",
      "50000/50000 [==============================] - 8s 159us/step - loss: 0.6647 - acc: 0.7585 - val_loss: 1.7731 - val_acc: 0.5101\n",
      "Epoch 52/100\n",
      "50000/50000 [==============================] - 8s 154us/step - loss: 0.6426 - acc: 0.7717 - val_loss: 1.8562 - val_acc: 0.5148\n",
      "Epoch 53/100\n",
      "50000/50000 [==============================] - 8s 162us/step - loss: 0.6355 - acc: 0.7693 - val_loss: 1.8191 - val_acc: 0.5113\n",
      "Epoch 54/100\n",
      "50000/50000 [==============================] - 8s 151us/step - loss: 0.6204 - acc: 0.7768 - val_loss: 1.9355 - val_acc: 0.5025\n",
      "Epoch 55/100\n",
      "50000/50000 [==============================] - 8s 154us/step - loss: 0.6324 - acc: 0.7722 - val_loss: 1.9099 - val_acc: 0.5092\n",
      "Epoch 56/100\n",
      "50000/50000 [==============================] - 8s 151us/step - loss: 0.6019 - acc: 0.7839 - val_loss: 1.9496 - val_acc: 0.5110\n",
      "Epoch 57/100\n",
      "50000/50000 [==============================] - 8s 160us/step - loss: 0.6095 - acc: 0.7798 - val_loss: 1.9319 - val_acc: 0.5064\n",
      "Epoch 58/100\n",
      "50000/50000 [==============================] - 8s 167us/step - loss: 0.6095 - acc: 0.7790 - val_loss: 1.9508 - val_acc: 0.5122\n",
      "Epoch 59/100\n"
     ]
    },
    {
     "name": "stdout",
     "output_type": "stream",
     "text": [
      "50000/50000 [==============================] - 7s 134us/step - loss: 0.5655 - acc: 0.7975 - val_loss: 1.9627 - val_acc: 0.5033\n",
      "Epoch 60/100\n",
      "50000/50000 [==============================] - 6s 122us/step - loss: 0.5636 - acc: 0.7975 - val_loss: 2.0369 - val_acc: 0.5116\n",
      "Epoch 61/100\n",
      "50000/50000 [==============================] - 6s 122us/step - loss: 0.5466 - acc: 0.8030 - val_loss: 2.0712 - val_acc: 0.5003\n",
      "Epoch 62/100\n",
      "50000/50000 [==============================] - 6s 124us/step - loss: 0.5534 - acc: 0.7999 - val_loss: 2.0986 - val_acc: 0.5092\n",
      "Epoch 63/100\n",
      "50000/50000 [==============================] - 6s 124us/step - loss: 0.5342 - acc: 0.8075 - val_loss: 2.1542 - val_acc: 0.5020\n",
      "Epoch 64/100\n",
      "50000/50000 [==============================] - 6s 126us/step - loss: 0.5220 - acc: 0.8140 - val_loss: 2.1479 - val_acc: 0.5001\n",
      "Epoch 65/100\n",
      "50000/50000 [==============================] - 6s 125us/step - loss: 0.5232 - acc: 0.8112 - val_loss: 2.1931 - val_acc: 0.5033\n",
      "Epoch 66/100\n",
      "50000/50000 [==============================] - 6s 126us/step - loss: 0.5034 - acc: 0.8188 - val_loss: 2.2841 - val_acc: 0.5002\n",
      "Epoch 67/100\n",
      "50000/50000 [==============================] - 6s 127us/step - loss: 0.5094 - acc: 0.8165 - val_loss: 2.2055 - val_acc: 0.5020\n",
      "Epoch 68/100\n",
      "50000/50000 [==============================] - 6s 127us/step - loss: 0.4994 - acc: 0.8210 - val_loss: 2.2126 - val_acc: 0.5056\n",
      "Epoch 69/100\n",
      "50000/50000 [==============================] - 6s 129us/step - loss: 0.4977 - acc: 0.8210 - val_loss: 2.2580 - val_acc: 0.4971\n",
      "Epoch 70/100\n",
      "50000/50000 [==============================] - 6s 128us/step - loss: 0.4828 - acc: 0.8242 - val_loss: 2.3368 - val_acc: 0.4949\n",
      "Epoch 71/100\n",
      "50000/50000 [==============================] - 7s 132us/step - loss: 0.4828 - acc: 0.8266 - val_loss: 2.2936 - val_acc: 0.5023\n",
      "Epoch 72/100\n",
      "50000/50000 [==============================] - 7s 130us/step - loss: 0.4575 - acc: 0.8367 - val_loss: 2.3251 - val_acc: 0.4993\n",
      "Epoch 73/100\n",
      "50000/50000 [==============================] - 7s 132us/step - loss: 0.4676 - acc: 0.8309 - val_loss: 2.4182 - val_acc: 0.4990\n",
      "Epoch 74/100\n",
      "50000/50000 [==============================] - 7s 131us/step - loss: 0.4535 - acc: 0.8371 - val_loss: 2.4835 - val_acc: 0.5054\n",
      "Epoch 75/100\n",
      "50000/50000 [==============================] - 7s 132us/step - loss: 0.4471 - acc: 0.8381 - val_loss: 2.4397 - val_acc: 0.4976\n",
      "Epoch 76/100\n",
      "50000/50000 [==============================] - 7s 133us/step - loss: 0.4466 - acc: 0.8392 - val_loss: 2.4442 - val_acc: 0.5026\n",
      "Epoch 77/100\n",
      "50000/50000 [==============================] - 7s 133us/step - loss: 0.4272 - acc: 0.8464 - val_loss: 2.4652 - val_acc: 0.5049\n",
      "Epoch 78/100\n",
      "50000/50000 [==============================] - 7s 134us/step - loss: 0.4407 - acc: 0.8417 - val_loss: 2.5884 - val_acc: 0.4860\n",
      "Epoch 79/100\n",
      "50000/50000 [==============================] - 7s 135us/step - loss: 0.4422 - acc: 0.8425 - val_loss: 2.4905 - val_acc: 0.4927\n",
      "Epoch 80/100\n",
      "50000/50000 [==============================] - 7s 134us/step - loss: 0.4243 - acc: 0.8491 - val_loss: 2.4806 - val_acc: 0.5012\n",
      "Epoch 81/100\n",
      "50000/50000 [==============================] - 7s 136us/step - loss: 0.4171 - acc: 0.8512 - val_loss: 2.5505 - val_acc: 0.4922\n",
      "Epoch 82/100\n",
      "50000/50000 [==============================] - 7s 136us/step - loss: 0.4243 - acc: 0.8478 - val_loss: 2.6170 - val_acc: 0.5019\n",
      "Epoch 83/100\n",
      "50000/50000 [==============================] - 7s 136us/step - loss: 0.3828 - acc: 0.8631 - val_loss: 2.5796 - val_acc: 0.4963\n",
      "Epoch 84/100\n",
      "50000/50000 [==============================] - 7s 136us/step - loss: 0.3895 - acc: 0.8590 - val_loss: 2.6589 - val_acc: 0.4998\n",
      "Epoch 85/100\n",
      "50000/50000 [==============================] - 7s 138us/step - loss: 0.3803 - acc: 0.8651 - val_loss: 2.6736 - val_acc: 0.4981s: \n",
      "Epoch 86/100\n",
      "50000/50000 [==============================] - 7s 139us/step - loss: 0.4010 - acc: 0.8559 - val_loss: 2.6481 - val_acc: 0.5002loss: 0.3681 - - ETA: 3s - loss: 0.3\n",
      "Epoch 87/100\n",
      "50000/50000 [==============================] - 7s 137us/step - loss: 0.3960 - acc: 0.8575 - val_loss: 2.6952 - val_acc: 0.4959\n",
      "Epoch 88/100\n",
      "50000/50000 [==============================] - 7s 140us/step - loss: 0.3802 - acc: 0.8637 - val_loss: 2.7121 - val_acc: 0.5023\n",
      "Epoch 89/100\n",
      "50000/50000 [==============================] - 7s 142us/step - loss: 0.3803 - acc: 0.8621 - val_loss: 2.7645 - val_acc: 0.4938\n",
      "Epoch 90/100\n",
      "50000/50000 [==============================] - 7s 140us/step - loss: 0.3580 - acc: 0.8716 - val_loss: 2.7230 - val_acc: 0.5006\n",
      "Epoch 91/100\n",
      "50000/50000 [==============================] - 7s 141us/step - loss: 0.3650 - acc: 0.8678 - val_loss: 2.8018 - val_acc: 0.49670.\n",
      "Epoch 92/100\n",
      "50000/50000 [==============================] - 7s 141us/step - loss: 0.3505 - acc: 0.8740 - val_loss: 2.7738 - val_acc: 0.5013\n",
      "Epoch 93/100\n",
      "50000/50000 [==============================] - 7s 141us/step - loss: 0.3637 - acc: 0.8699 - val_loss: 2.8966 - val_acc: 0.4902\n",
      "Epoch 94/100\n",
      "50000/50000 [==============================] - 7s 141us/step - loss: 0.3529 - acc: 0.8726 - val_loss: 2.9199 - val_acc: 0.4956\n",
      "Epoch 95/100\n",
      "50000/50000 [==============================] - 7s 143us/step - loss: 0.3562 - acc: 0.8719 - val_loss: 2.8882 - val_acc: 0.4958\n",
      "Epoch 96/100\n",
      "50000/50000 [==============================] - 7s 146us/step - loss: 0.3403 - acc: 0.8785 - val_loss: 2.8428 - val_acc: 0.4928\n",
      "Epoch 97/100\n",
      "50000/50000 [==============================] - 7s 147us/step - loss: 0.3414 - acc: 0.8771 - val_loss: 2.9772 - val_acc: 0.5015\n",
      "Epoch 98/100\n",
      "50000/50000 [==============================] - 7s 145us/step - loss: 0.3483 - acc: 0.8744 - val_loss: 2.8824 - val_acc: 0.4945\n",
      "Epoch 99/100\n",
      "50000/50000 [==============================] - 7s 146us/step - loss: 0.3371 - acc: 0.8792 - val_loss: 2.8997 - val_acc: 0.5040\n",
      "Epoch 100/100\n",
      "50000/50000 [==============================] - 7s 145us/step - loss: 0.2989 - acc: 0.8946 - val_loss: 3.0001 - val_acc: 0.4990\n"
     ]
    },
    {
     "data": {
      "text/plain": [
       "<keras.callbacks.History at 0xb3cf11860>"
      ]
     },
     "execution_count": 44,
     "metadata": {},
     "output_type": "execute_result"
    }
   ],
   "source": [
    "model.fit(x_train, y_train, \n",
    "          epochs=EPOCHS, \n",
    "          batch_size=BATCH_SIZE, \n",
    "          validation_data=(x_test, y_test), \n",
    "          shuffle=True)"
   ]
  },
  {
   "cell_type": "code",
   "execution_count": 45,
   "metadata": {},
   "outputs": [
    {
     "data": {
      "image/png": "[encoded data removed]",
      "text/plain": [
       "<Figure size 432x288 with 1 Axes>"
      ]
     },
     "metadata": {
      "needs_background": "light"
     },
     "output_type": "display_data"
    },
    {
     "data": {
      "image/png": "[encoded data removed]",
      "text/plain": [
       "<Figure size 432x288 with 1 Axes>"
      ]
     },
     "metadata": {
      "needs_background": "light"
     },
     "output_type": "display_data"
    }
   ],
   "source": [
    "import matplotlib.pyplot as plt\n",
    "\n",
    "\n",
    "train_loss = model.history.history[\"loss\"]\n",
    "valid_loss = model.history.history[\"val_loss\"]\n",
    "\n",
    "train_acc = model.history.history[\"acc\"]\n",
    "valid_acc = model.history.history[\"val_acc\"]\n",
    "\n",
    "plt.plot(range(len(train_loss)), train_loss, label=\"train loss\")\n",
    "plt.plot(range(len(valid_loss)), valid_loss, label=\"valid loss\")\n",
    "plt.legend()\n",
    "plt.title(\"Loss\")\n",
    "plt.show()\n",
    "\n",
    "plt.plot(range(len(train_acc)), train_acc, label=\"train accuracy\")\n",
    "plt.plot(range(len(valid_acc)), valid_acc, label=\"valid accuracy\")\n",
    "plt.legend()\n",
    "plt.title(\"Accuracy\")\n",
    "plt.show()"
   ]
  },
  {
   "cell_type": "code",
   "execution_count": null,
   "metadata": {},
   "outputs": [],
   "source": []
  }
 ],
 "metadata": {
  "kernelspec": {
   "display_name": "Python 3",
   "language": "python",
   "name": "python3"
  },
  "language_info": {
   "codemirror_mode": {
    "name": "ipython",
    "version": 3
   },
   "file_extension": ".py",
   "mimetype": "text/x-python",
   "name": "python",
   "nbconvert_exporter": "python",
   "pygments_lexer": "ipython3",
   "version": "3.7.3"
  }
 },
 "nbformat": 4,
 "nbformat_minor": 2
}
