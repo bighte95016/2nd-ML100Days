{
 "cells": [
  {
   "cell_type": "markdown",
   "metadata": {},
   "source": [
    "### 作業\n",
    "目前已經學過許多的模型，相信大家對整體流程應該比較掌握了，這次作業請改用**手寫辨識資料集**，步驟流程都是一樣的，請試著自己撰寫程式碼來完成所有步驟"
   ]
  },
  {
   "cell_type": "code",
   "execution_count": 8,
   "metadata": {},
   "outputs": [],
   "source": [
    "from sklearn import datasets, metrics\n",
    "from sklearn.ensemble import GradientBoostingClassifier\n",
    "from sklearn.model_selection import train_test_split"
   ]
  },
  {
   "cell_type": "code",
   "execution_count": 9,
   "metadata": {},
   "outputs": [],
   "source": [
    "digits = datasets.load_digits()\n",
    "\n",
    "x_train, x_test, y_train, y_test = train_test_split(digits.data, digits.target, test_size=0.25, random_state=4)\n",
    "\n",
    "gbc = GradientBoostingClassifier()\n",
    "\n",
    "gbc.fit(x_train, y_train)\n",
    "\n",
    "y_pred = gbc.predict(x_test)"
   ]
  },
  {
   "cell_type": "code",
   "execution_count": 10,
   "metadata": {},
   "outputs": [
    {
     "name": "stdout",
     "output_type": "stream",
     "text": [
      "accuracy_score: 0.9644444444444444\n"
     ]
    }
   ],
   "source": [
    "acc = metrics.accuracy_score(y_test, y_pred)\n",
    "print(\"accuracy_score:\", acc)"
   ]
  },
  {
   "cell_type": "code",
   "execution_count": 12,
   "metadata": {},
   "outputs": [
    {
     "name": "stdout",
     "output_type": "stream",
     "text": [
      "Feature importance: [0.00000000e+00 7.57800929e-04 7.77489978e-03 6.57467596e-03\n",
      " 1.72989702e-03 5.28987016e-02 1.01029423e-02 4.43431056e-05\n",
      " 0.00000000e+00 1.71496790e-03 1.12559412e-02 4.78937513e-04\n",
      " 5.83777909e-03 1.40760183e-02 2.17233680e-03 5.99379114e-04\n",
      " 3.28502539e-04 2.84649308e-03 1.11647539e-02 3.38623941e-02\n",
      " 2.47824241e-02 9.03624492e-02 6.52471236e-03 1.66170654e-09\n",
      " 2.56268239e-04 2.00671733e-03 4.78539966e-02 2.02143532e-02\n",
      " 3.63226158e-02 2.32182489e-02 9.00756691e-03 4.84952077e-04\n",
      " 0.00000000e+00 6.13150169e-02 4.03638237e-03 1.12014761e-03\n",
      " 7.06881615e-02 1.25585898e-02 2.13538371e-02 0.00000000e+00\n",
      " 0.00000000e+00 9.38205189e-03 8.79472276e-02 6.39019278e-02\n",
      " 1.21662873e-02 1.79164643e-02 1.59224624e-02 7.27564345e-05\n",
      " 0.00000000e+00 9.76180010e-04 7.50616859e-03 2.11952614e-02\n",
      " 1.07786795e-02 1.61473438e-02 2.21301731e-02 1.44357000e-04\n",
      " 0.00000000e+00 3.74578124e-04 3.02478182e-02 2.36934076e-03\n",
      " 4.90898033e-02 7.57909809e-03 1.88060893e-02 9.01872542e-03]\n"
     ]
    }
   ],
   "source": [
    "print(\"Feature importance:\", gbc.feature_importances_)"
   ]
  },
  {
   "cell_type": "code",
   "execution_count": null,
   "metadata": {},
   "outputs": [],
   "source": []
  }
 ],
 "metadata": {
  "kernelspec": {
   "display_name": "Python 3",
   "language": "python",
   "name": "python3"
  },
  "language_info": {
   "codemirror_mode": {
    "name": "ipython",
    "version": 3
   },
   "file_extension": ".py",
   "mimetype": "text/x-python",
   "name": "python",
   "nbconvert_exporter": "python",
   "pygments_lexer": "ipython3",
   "version": "3.7.3"
  }
 },
 "nbformat": 4,
 "nbformat_minor": 2
}
